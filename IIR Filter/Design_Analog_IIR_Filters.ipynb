{
 "cells": [
  {
   "cell_type": "markdown",
   "metadata": {},
   "source": [
    "# Chebyshev Type I analog low-pass prototype design (ripple in passband, monotone stopband)."
   ]
  },
  {
   "cell_type": "code",
   "execution_count": 1,
   "metadata": {},
   "outputs": [],
   "source": [
    "import numpy as np\n",
    "import matplotlib.pyplot as plt"
   ]
  },
  {
   "cell_type": "code",
   "execution_count": 8,
   "metadata": {},
   "outputs": [],
   "source": [
    "# Define delta_p and delta_s ranges\n",
    "delta_p = np.linspace(0.001, 0.2, 500)\n",
    "delta_s = np.linspace(0.01, 0.5, 500)\n",
    "\n",
    "# Calculate terms\n",
    "num = (1 - delta_p)**(-2) - 1\n",
    "den = delta_s**(-2) - 1\n",
    "# Create grids for d\n",
    "dp_grid, ds_grid = np.meshgrid(delta_p, delta_s)\n",
    "num_grid = (1 - dp_grid)**(-2) - 1\n",
    "den_grid = ds_grid**(-2) - 1\n",
    "d_grid = np.sqrt(num_grid / den_grid)"
   ]
  },
  {
   "cell_type": "code",
   "execution_count": 4,
   "metadata": {},
   "outputs": [],
   "source": [
    "from IPython.display import display, Math"
   ]
  },
  {
   "cell_type": "code",
   "execution_count": null,
   "metadata": {},
   "outputs": [],
   "source": [
    "# Plot numerator and denominator\n",
    "plt.figure(figsize=(12,4))\n",
    "plt.subplot(1,2,1)\n",
    "plt.plot(delta_p, num, label=r'$(1-\\delta_p)^{-2}-1$')\n",
    "plt.xlabel(r'$\\delta_p$')\n",
    "plt.ylabel('Value')\n",
    "plt.legend()\n",
    "plt.title(\"Numerator vs δp\")\n",
    "\n",
    "plt.subplot(1,2,2)\n",
    "plt.plot(delta_s, den, label=r'$\\delta_s^{-2}-1$')\n",
    "plt.xlabel(r'$\\delta_s$')\n",
    "plt.ylabel('Value')\n",
    "plt.legend()\n",
    "plt.title(\"Denominator vs δs\")\n",
    "\n",
    "plt.tight_layout()\n",
    "plt.show()\n",
    "\n",
    "# Plot discrimination factor surface\n",
    "plt.figure(figsize=(6,5))\n",
    "plt.contourf(dp_grid, ds_grid, d_grid, levels=50, cmap='viridis')\n",
    "plt.colorbar(label='Discrimination Factor d')\n",
    "plt.xlabel(r'$\\delta_p$')\n",
    "plt.ylabel(r'$\\delta_s$')\n",
    "plt.title(\"Discrimination Factor d as function of δp and δs\")\n",
    "plt.show()\n",
    "\n",
    "\n",
    "display(Math(r\"(1-\\delta_p)^{2} - 1\"))\n",
    "display(Math(r\"\\delta_s^{2} - 1\"))\n",
    "display(Math(r\"d = \\sqrt{\\frac{(1-\\delta_p)^{2} - 1}{\\delta_s^{2} - 1}}\"))\n",
    "\n"
   ]
  }
 ],
 "metadata": {
  "kernelspec": {
   "display_name": "Python 3",
   "language": "python",
   "name": "python3"
  },
  "language_info": {
   "codemirror_mode": {
    "name": "ipython",
    "version": 3
   },
   "file_extension": ".py",
   "mimetype": "text/x-python",
   "name": "python",
   "nbconvert_exporter": "python",
   "pygments_lexer": "ipython3",
   "version": "3.11.1"
  }
 },
 "nbformat": 4,
 "nbformat_minor": 2
}
